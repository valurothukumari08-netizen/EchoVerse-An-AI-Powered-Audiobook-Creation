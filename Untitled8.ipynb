{
  "nbformat": 4,
  "nbformat_minor": 0,
  "metadata": {
    "colab": {
      "provenance": [],
      "authorship_tag": "ABX9TyOaX3bXSo3SlV+LGhEWoAdk",
      "include_colab_link": true
    },
    "kernelspec": {
      "name": "python3",
      "display_name": "Python 3"
    },
    "language_info": {
      "name": "python"
    }
  },
  "cells": [
    {
      "cell_type": "markdown",
      "metadata": {
        "id": "view-in-github",
        "colab_type": "text"
      },
      "source": [
        "<a href=\"https://colab.research.google.com/github/valurothukumari08-netizen/EchoVerse-An-AI-Powered-Audiobook-Creation/blob/main/Untitled8.ipynb\" target=\"_parent\"><img src=\"https://colab.research.google.com/assets/colab-badge.svg\" alt=\"Open In Colab\"/></a>"
      ]
    },
    {
      "cell_type": "code",
      "execution_count": 3,
      "metadata": {
        "colab": {
          "base_uri": "https://localhost:8080/"
        },
        "id": "_yQSQapdvHLL",
        "outputId": "47362895-2ade-45dd-efcd-942979e97a0b"
      },
      "outputs": [
        {
          "output_type": "stream",
          "name": "stdout",
          "text": [
            "Collecting gTTS\n",
            "  Downloading gTTS-2.5.4-py3-none-any.whl.metadata (4.1 kB)\n",
            "Requirement already satisfied: requests<3,>=2.27 in /usr/local/lib/python3.12/dist-packages (from gTTS) (2.32.4)\n",
            "Collecting click<8.2,>=7.1 (from gTTS)\n",
            "  Downloading click-8.1.8-py3-none-any.whl.metadata (2.3 kB)\n",
            "Requirement already satisfied: charset_normalizer<4,>=2 in /usr/local/lib/python3.12/dist-packages (from requests<3,>=2.27->gTTS) (3.4.3)\n",
            "Requirement already satisfied: idna<4,>=2.5 in /usr/local/lib/python3.12/dist-packages (from requests<3,>=2.27->gTTS) (3.10)\n",
            "Requirement already satisfied: urllib3<3,>=1.21.1 in /usr/local/lib/python3.12/dist-packages (from requests<3,>=2.27->gTTS) (2.5.0)\n",
            "Requirement already satisfied: certifi>=2017.4.17 in /usr/local/lib/python3.12/dist-packages (from requests<3,>=2.27->gTTS) (2025.8.3)\n",
            "Downloading gTTS-2.5.4-py3-none-any.whl (29 kB)\n",
            "Downloading click-8.1.8-py3-none-any.whl (98 kB)\n",
            "\u001b[2K   \u001b[90m━━━━━━━━━━━━━━━━━━━━━━━━━━━━━━━━━━━━━━━━\u001b[0m \u001b[32m98.2/98.2 kB\u001b[0m \u001b[31m3.6 MB/s\u001b[0m eta \u001b[36m0:00:00\u001b[0m\n",
            "\u001b[?25hInstalling collected packages: click, gTTS\n",
            "  Attempting uninstall: click\n",
            "    Found existing installation: click 8.2.1\n",
            "    Uninstalling click-8.2.1:\n",
            "      Successfully uninstalled click-8.2.1\n",
            "Successfully installed click-8.1.8 gTTS-2.5.4\n"
          ]
        }
      ],
      "source": [
        "!pip install gTTS"
      ]
    },
    {
      "cell_type": "code",
      "source": [
        "!pip install gTTS"
      ],
      "metadata": {
        "colab": {
          "base_uri": "https://localhost:8080/"
        },
        "id": "nGGRwHDHxpKW",
        "outputId": "76ae03d0-de33-42cf-9601-a180e219164c"
      },
      "execution_count": 20,
      "outputs": [
        {
          "output_type": "stream",
          "name": "stdout",
          "text": [
            "Requirement already satisfied: gTTS in /usr/local/lib/python3.12/dist-packages (2.5.4)\n",
            "Requirement already satisfied: requests<3,>=2.27 in /usr/local/lib/python3.12/dist-packages (from gTTS) (2.32.4)\n",
            "Requirement already satisfied: click<8.2,>=7.1 in /usr/local/lib/python3.12/dist-packages (from gTTS) (8.1.8)\n",
            "Requirement already satisfied: charset_normalizer<4,>=2 in /usr/local/lib/python3.12/dist-packages (from requests<3,>=2.27->gTTS) (3.4.3)\n",
            "Requirement already satisfied: idna<4,>=2.5 in /usr/local/lib/python3.12/dist-packages (from requests<3,>=2.27->gTTS) (3.10)\n",
            "Requirement already satisfied: urllib3<3,>=1.21.1 in /usr/local/lib/python3.12/dist-packages (from requests<3,>=2.27->gTTS) (2.5.0)\n",
            "Requirement already satisfied: certifi>=2017.4.17 in /usr/local/lib/python3.12/dist-packages (from requests<3,>=2.27->gTTS) (2025.8.3)\n"
          ]
        }
      ]
    },
    {
      "cell_type": "code",
      "source": [
        "# Install gTTS (Google Text-to-Speech) if not already installed\n",
        "\n",
        "\n",
        "# Import the library\n",
        "from gtts import gTTS\n",
        "\n",
        "# -------- INPUT TEXT -----------\n",
        "text = (\"onceupon a time there lived a ghost story\")\n",
        "\n",
        "\n",
        "# -------- CREATE AUDIO ----------\n",
        "# Language can be changed: 'en' = English, 'hi' = Hindi, 'te' = Telugu, etc.\n",
        "tts = gTTS(text=text, lang='en')\n",
        "\n",
        "# -------- SAVE OUTPUT ----------\n",
        "tts.save(\"audiobook.mp3\")\n",
        "\n",
        "print(\"✅ Audiobook saved as 'audiobook.mp3'\")"
      ],
      "metadata": {
        "colab": {
          "base_uri": "https://localhost:8080/"
        },
        "id": "N1umiZApvdAr",
        "outputId": "050c4ec7-6814-4fee-e463-c6e4fc98e91c"
      },
      "execution_count": 25,
      "outputs": [
        {
          "output_type": "stream",
          "name": "stdout",
          "text": [
            "✅ Audiobook saved as 'audiobook.mp3'\n"
          ]
        }
      ]
    },
    {
      "cell_type": "code",
      "source": [
        "from IPython.display import Audio\n",
        "Audio(\"audiobook.mp3\")"
      ],
      "metadata": {
        "colab": {
          "base_uri": "https://localhost:8080/",
          "height": 75
        },
        "id": "Yc9sCg0HxnqW",
        "outputId": "05c31643-c1a5-4612-96cb-fc5010c3ced7"
      },
      "execution_count": 26,
      "outputs": [
        {
          "output_type": "execute_result",
          "data": {
            "text/plain": [
              "<IPython.lib.display.Audio object>"
            ],
            "text/html": [
              "\n",
              "                <audio  controls=\"controls\" >\n",
              "                    <source src=\"data:audio/mpeg;base64,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\" type=\"audio/mpeg\" />\n",
              "                    Your browser does not support the audio element.\n",
              "                </audio>\n",
              "              "
            ]
          },
          "metadata": {},
          "execution_count": 26
        }
      ]
    },
    {
      "cell_type": "markdown",
      "source": [],
      "metadata": {
        "id": "6YE0Nj_HwNGc"
      }
    },
    {
      "cell_type": "code",
      "source": [],
      "metadata": {
        "id": "j55X0AxTvdDz"
      },
      "execution_count": null,
      "outputs": []
    },
    {
      "cell_type": "code",
      "source": [],
      "metadata": {
        "id": "ZgtJSWu4vdG_"
      },
      "execution_count": null,
      "outputs": []
    },
    {
      "cell_type": "code",
      "source": [],
      "metadata": {
        "id": "cmwjirHvvdKf"
      },
      "execution_count": null,
      "outputs": []
    }
  ]
}